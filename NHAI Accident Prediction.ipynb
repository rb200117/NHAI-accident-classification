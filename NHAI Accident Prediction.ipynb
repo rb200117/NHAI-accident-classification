{
 "cells": [
  {
   "cell_type": "markdown",
   "id": "74fa6d23",
   "metadata": {},
   "source": [
    "# Assignment-3.1-MOOC By Rakshit Batra"
   ]
  },
  {
   "cell_type": "markdown",
   "id": "22766a58",
   "metadata": {},
   "source": [
    "### 1) Forecasting Accident Type"
   ]
  },
  {
   "cell_type": "markdown",
   "id": "7e44534f",
   "metadata": {},
   "source": [
    "### Importing all the necessary libraries and the dataset"
   ]
  },
  {
   "cell_type": "code",
   "execution_count": 82,
   "id": "da8b0313",
   "metadata": {},
   "outputs": [
    {
     "data": {
      "text/html": [
       "<div>\n",
       "<style scoped>\n",
       "    .dataframe tbody tr th:only-of-type {\n",
       "        vertical-align: middle;\n",
       "    }\n",
       "\n",
       "    .dataframe tbody tr th {\n",
       "        vertical-align: top;\n",
       "    }\n",
       "\n",
       "    .dataframe thead th {\n",
       "        text-align: right;\n",
       "    }\n",
       "</style>\n",
       "<table border=\"1\" class=\"dataframe\">\n",
       "  <thead>\n",
       "    <tr style=\"text-align: right;\">\n",
       "      <th></th>\n",
       "      <th>Date</th>\n",
       "      <th>TimeOfAcc</th>\n",
       "      <th>AccLocation</th>\n",
       "      <th>NatureAccident</th>\n",
       "      <th>ClassificationOfAccident</th>\n",
       "      <th>Causes</th>\n",
       "      <th>RoadFeature</th>\n",
       "      <th>RoadCondition</th>\n",
       "      <th>IntersectionTypeControl</th>\n",
       "      <th>WeatherCondition</th>\n",
       "      <th>VehicleResponsible</th>\n",
       "      <th>Fatal</th>\n",
       "      <th>Grevious</th>\n",
       "      <th>Minor</th>\n",
       "      <th>Injured</th>\n",
       "      <th>NumAnimalsKilled</th>\n",
       "      <th>HelpProvidedByAmbulancePatrol</th>\n",
       "      <th>Remarks</th>\n",
       "    </tr>\n",
       "  </thead>\n",
       "  <tbody>\n",
       "    <tr>\n",
       "      <th>0</th>\n",
       "      <td>9/6/2015</td>\n",
       "      <td>09:00 AM</td>\n",
       "      <td>Ch. 69+5006</td>\n",
       "      <td>2</td>\n",
       "      <td>2</td>\n",
       "      <td>2</td>\n",
       "      <td>2</td>\n",
       "      <td>1</td>\n",
       "      <td>9</td>\n",
       "      <td>1</td>\n",
       "      <td>One Diesel Truck collapsed</td>\n",
       "      <td>0</td>\n",
       "      <td>2</td>\n",
       "      <td>1</td>\n",
       "      <td>0</td>\n",
       "      <td>0</td>\n",
       "      <td>Petrol Vehicle</td>\n",
       "      <td>NaN</td>\n",
       "    </tr>\n",
       "    <tr>\n",
       "      <th>1</th>\n",
       "      <td>9/5/2014</td>\n",
       "      <td>07:18 AM</td>\n",
       "      <td>72+500</td>\n",
       "      <td>7</td>\n",
       "      <td>1</td>\n",
       "      <td>2</td>\n",
       "      <td>2</td>\n",
       "      <td>3</td>\n",
       "      <td>9</td>\n",
       "      <td>1</td>\n",
       "      <td>Lorry &amp; Scorpio</td>\n",
       "      <td>2</td>\n",
       "      <td>0</td>\n",
       "      <td>0</td>\n",
       "      <td>0</td>\n",
       "      <td>0</td>\n",
       "      <td>Ambulance</td>\n",
       "      <td>NaN</td>\n",
       "    </tr>\n",
       "    <tr>\n",
       "      <th>2</th>\n",
       "      <td>9/10/2014</td>\n",
       "      <td>08:50 AM</td>\n",
       "      <td>20+250 LHS</td>\n",
       "      <td>4</td>\n",
       "      <td>-</td>\n",
       "      <td>3</td>\n",
       "      <td>3</td>\n",
       "      <td>1</td>\n",
       "      <td>9</td>\n",
       "      <td>1</td>\n",
       "      <td>LCV (KA02 AD 4041) HIT CAR (KA 19 Z 8477)</td>\n",
       "      <td>0</td>\n",
       "      <td>0</td>\n",
       "      <td>0</td>\n",
       "      <td>0</td>\n",
       "      <td>0</td>\n",
       "      <td>Petrol Vehicle</td>\n",
       "      <td>NO PROPERTY DAMAGES. INFORMED KEY PERSONS.</td>\n",
       "    </tr>\n",
       "    <tr>\n",
       "      <th>3</th>\n",
       "      <td>8/9/2015</td>\n",
       "      <td>05:00 AM</td>\n",
       "      <td>NaN</td>\n",
       "      <td>1</td>\n",
       "      <td>2</td>\n",
       "      <td>2</td>\n",
       "      <td>1</td>\n",
       "      <td>3</td>\n",
       "      <td>9</td>\n",
       "      <td>1</td>\n",
       "      <td>Lorry Truck</td>\n",
       "      <td>0</td>\n",
       "      <td>1</td>\n",
       "      <td>1</td>\n",
       "      <td>0</td>\n",
       "      <td>0</td>\n",
       "      <td>Petrol Vehicle</td>\n",
       "      <td>NaN</td>\n",
       "    </tr>\n",
       "    <tr>\n",
       "      <th>4</th>\n",
       "      <td>8/4/2015</td>\n",
       "      <td>08:23 AM</td>\n",
       "      <td>126.800 KM RHS</td>\n",
       "      <td>2</td>\n",
       "      <td>2</td>\n",
       "      <td>2</td>\n",
       "      <td>4</td>\n",
       "      <td>4</td>\n",
       "      <td>9</td>\n",
       "      <td>1</td>\n",
       "      <td>Car</td>\n",
       "      <td>0</td>\n",
       "      <td>2</td>\n",
       "      <td>1</td>\n",
       "      <td>1</td>\n",
       "      <td>0</td>\n",
       "      <td>Petrol Vehicle</td>\n",
       "      <td>A car upside due to over speed</td>\n",
       "    </tr>\n",
       "  </tbody>\n",
       "</table>\n",
       "</div>"
      ],
      "text/plain": [
       "        Date TimeOfAcc     AccLocation  NatureAccident  \\\n",
       "0   9/6/2015  09:00 AM     Ch. 69+5006               2   \n",
       "1   9/5/2014  07:18 AM          72+500               7   \n",
       "2  9/10/2014  08:50 AM      20+250 LHS               4   \n",
       "3   8/9/2015  05:00 AM             NaN               1   \n",
       "4   8/4/2015  08:23 AM  126.800 KM RHS               2   \n",
       "\n",
       "  ClassificationOfAccident Causes  RoadFeature  RoadCondition  \\\n",
       "0                        2      2            2              1   \n",
       "1                        1      2            2              3   \n",
       "2                        -      3            3              1   \n",
       "3                        2      2            1              3   \n",
       "4                        2      2            4              4   \n",
       "\n",
       "   IntersectionTypeControl  WeatherCondition  \\\n",
       "0                        9                 1   \n",
       "1                        9                 1   \n",
       "2                        9                 1   \n",
       "3                        9                 1   \n",
       "4                        9                 1   \n",
       "\n",
       "                          VehicleResponsible  Fatal  Grevious  Minor  Injured  \\\n",
       "0                 One Diesel Truck collapsed      0         2      1        0   \n",
       "1                            Lorry & Scorpio      2         0      0        0   \n",
       "2  LCV (KA02 AD 4041) HIT CAR (KA 19 Z 8477)      0         0      0        0   \n",
       "3                                Lorry Truck      0         1      1        0   \n",
       "4                                        Car      0         2      1        1   \n",
       "\n",
       "   NumAnimalsKilled HelpProvidedByAmbulancePatrol  \\\n",
       "0                 0                Petrol Vehicle   \n",
       "1                 0                     Ambulance   \n",
       "2                 0                Petrol Vehicle   \n",
       "3                 0                Petrol Vehicle   \n",
       "4                 0                Petrol Vehicle   \n",
       "\n",
       "                                      Remarks  \n",
       "0                                         NaN  \n",
       "1                                         NaN  \n",
       "2  NO PROPERTY DAMAGES. INFORMED KEY PERSONS.  \n",
       "3                                         NaN  \n",
       "4              A car upside due to over speed  "
      ]
     },
     "execution_count": 82,
     "metadata": {},
     "output_type": "execute_result"
    }
   ],
   "source": [
    "import numpy as np\n",
    "import pandas as pd\n",
    "df = pd.read_csv('/Users/rakshitbatra/Downloads/NHAIAccidentData-1.csv')\n",
    "df.head()"
   ]
  },
  {
   "cell_type": "markdown",
   "id": "c40798d5",
   "metadata": {},
   "source": [
    "### Checking for unique elements in ClassificationOfAccident column and counting total occurences against that value."
   ]
  },
  {
   "cell_type": "code",
   "execution_count": 83,
   "id": "3c1dee47",
   "metadata": {},
   "outputs": [
    {
     "data": {
      "text/plain": [
       "2    25\n",
       "1    22\n",
       "3    22\n",
       "4    14\n",
       "-     8\n",
       "Name: ClassificationOfAccident, dtype: int64"
      ]
     },
     "execution_count": 83,
     "metadata": {},
     "output_type": "execute_result"
    }
   ],
   "source": [
    "df['ClassificationOfAccident'].value_counts()"
   ]
  },
  {
   "cell_type": "markdown",
   "id": "d037b0d6",
   "metadata": {},
   "source": [
    "### Checking for total unique values in all columns of the dataset"
   ]
  },
  {
   "cell_type": "code",
   "execution_count": 84,
   "id": "b1da93bb",
   "metadata": {},
   "outputs": [
    {
     "data": {
      "text/plain": [
       "Date                             65\n",
       "TimeOfAcc                        54\n",
       "AccLocation                      77\n",
       "NatureAccident                    7\n",
       "ClassificationOfAccident          5\n",
       "Causes                            7\n",
       "RoadFeature                       4\n",
       "RoadCondition                     4\n",
       "IntersectionTypeControl           4\n",
       "WeatherCondition                  2\n",
       "VehicleResponsible               69\n",
       "Fatal                             6\n",
       "Grevious                          6\n",
       "Minor                             5\n",
       "Injured                           6\n",
       "NumAnimalsKilled                  2\n",
       "HelpProvidedByAmbulancePatrol     3\n",
       "Remarks                          34\n",
       "dtype: int64"
      ]
     },
     "execution_count": 84,
     "metadata": {},
     "output_type": "execute_result"
    }
   ],
   "source": [
    "df.nunique()"
   ]
  },
  {
   "cell_type": "markdown",
   "id": "90ef9223",
   "metadata": {},
   "source": [
    "### Duplicating the dataset"
   ]
  },
  {
   "cell_type": "code",
   "execution_count": 85,
   "id": "c15d6e0c",
   "metadata": {},
   "outputs": [],
   "source": [
    "df1 = df"
   ]
  },
  {
   "cell_type": "markdown",
   "id": "f75a6151",
   "metadata": {},
   "source": [
    "### Checking for null ('-') entries in Causes column"
   ]
  },
  {
   "cell_type": "code",
   "execution_count": 123,
   "id": "260d96b1",
   "metadata": {},
   "outputs": [
    {
     "name": "stdout",
     "output_type": "stream",
     "text": [
      "36 Null\n",
      "54 Null\n"
     ]
    }
   ],
   "source": [
    "for i in range(0,len(df1)):\n",
    "    if df1.iloc[i]['Causes'] == \"-\":\n",
    "        print(i,\"Null\")"
   ]
  },
  {
   "cell_type": "markdown",
   "id": "3ecbf3a6",
   "metadata": {},
   "source": [
    "### Dropping the rows with '-' values in it."
   ]
  },
  {
   "cell_type": "code",
   "execution_count": 124,
   "id": "d720638c",
   "metadata": {},
   "outputs": [],
   "source": [
    "df1.drop(df1[(df1['Causes']==\"-\")].index, inplace=True)"
   ]
  },
  {
   "cell_type": "markdown",
   "id": "ff76beb7",
   "metadata": {},
   "source": [
    "### Verifying the column once again to make sure that the rows with null/'-' values are deleted."
   ]
  },
  {
   "cell_type": "code",
   "execution_count": 125,
   "id": "360d6a8e",
   "metadata": {},
   "outputs": [
    {
     "name": "stdout",
     "output_type": "stream",
     "text": [
      "Count: 0\n"
     ]
    }
   ],
   "source": [
    "count = 0\n",
    "for i in range(0,len(df1)):\n",
    "    if df1.iloc[i]['Causes'] == \"-\":\n",
    "        count+=1\n",
    "print(\"Count:\",count)"
   ]
  },
  {
   "cell_type": "markdown",
   "id": "085662a2",
   "metadata": {},
   "source": [
    "### Checking for null ('-') entries in ClassificationOfAccident column"
   ]
  },
  {
   "cell_type": "code",
   "execution_count": 86,
   "id": "7adcfb4f",
   "metadata": {},
   "outputs": [
    {
     "name": "stdout",
     "output_type": "stream",
     "text": [
      "2 Null\n",
      "11 Null\n",
      "13 Null\n",
      "40 Null\n",
      "48 Null\n",
      "56 Null\n",
      "58 Null\n",
      "86 Null\n"
     ]
    }
   ],
   "source": [
    "for i in range(0,len(df1)):\n",
    "    if df1.iloc[i]['ClassificationOfAccident'] == \"-\":\n",
    "        print(i,\"Null\")"
   ]
  },
  {
   "cell_type": "markdown",
   "id": "23b139ce",
   "metadata": {},
   "source": [
    "### Dropping the rows with Null/'-'"
   ]
  },
  {
   "cell_type": "code",
   "execution_count": 179,
   "id": "8c22f36e",
   "metadata": {},
   "outputs": [],
   "source": [
    "df1.drop(df1[(df1['ClassificationOfAccident']==\"-\")].index, inplace=True)"
   ]
  },
  {
   "cell_type": "markdown",
   "id": "b0ea7b36",
   "metadata": {},
   "source": [
    "### Verifying the column once again to make sure that the rows with null/'-' values are deleted."
   ]
  },
  {
   "cell_type": "code",
   "execution_count": 88,
   "id": "abffb1cd",
   "metadata": {},
   "outputs": [
    {
     "name": "stdout",
     "output_type": "stream",
     "text": [
      "Count: 0\n"
     ]
    }
   ],
   "source": [
    "count = 0\n",
    "for i in range(0,len(df1)):\n",
    "    if df1.iloc[i]['ClassificationOfAccident'] == \"-\":\n",
    "        count+=1\n",
    "print(\"Count:\",count)"
   ]
  },
  {
   "cell_type": "code",
   "execution_count": 89,
   "id": "d523df60",
   "metadata": {},
   "outputs": [],
   "source": [
    "#Checking for null values in AccLocation column\n",
    "df1[(df1['AccLocation'].isna())]\n",
    "#Hence, Dropping those rows\n",
    "df1.drop(df1[(df1['AccLocation'].isna())].index, inplace=True)"
   ]
  },
  {
   "cell_type": "markdown",
   "id": "ae862c8e",
   "metadata": {},
   "source": [
    "### Replacing + with . in AccLocation's Entries"
   ]
  },
  {
   "cell_type": "code",
   "execution_count": 90,
   "id": "8e8ad048",
   "metadata": {},
   "outputs": [],
   "source": [
    "df1['AccLocation'] = df1['AccLocation'].str.replace('+','.',regex=True)"
   ]
  },
  {
   "cell_type": "code",
   "execution_count": 91,
   "id": "46eeac01",
   "metadata": {},
   "outputs": [
    {
     "data": {
      "text/html": [
       "<div>\n",
       "<style scoped>\n",
       "    .dataframe tbody tr th:only-of-type {\n",
       "        vertical-align: middle;\n",
       "    }\n",
       "\n",
       "    .dataframe tbody tr th {\n",
       "        vertical-align: top;\n",
       "    }\n",
       "\n",
       "    .dataframe thead th {\n",
       "        text-align: right;\n",
       "    }\n",
       "</style>\n",
       "<table border=\"1\" class=\"dataframe\">\n",
       "  <thead>\n",
       "    <tr style=\"text-align: right;\">\n",
       "      <th></th>\n",
       "      <th>NatureAccident</th>\n",
       "      <th>RoadFeature</th>\n",
       "      <th>RoadCondition</th>\n",
       "      <th>IntersectionTypeControl</th>\n",
       "      <th>WeatherCondition</th>\n",
       "      <th>Fatal</th>\n",
       "      <th>Grevious</th>\n",
       "      <th>Minor</th>\n",
       "      <th>Injured</th>\n",
       "      <th>NumAnimalsKilled</th>\n",
       "    </tr>\n",
       "  </thead>\n",
       "  <tbody>\n",
       "    <tr>\n",
       "      <th>count</th>\n",
       "      <td>81.000000</td>\n",
       "      <td>81.000000</td>\n",
       "      <td>81.000000</td>\n",
       "      <td>81.000000</td>\n",
       "      <td>81.000000</td>\n",
       "      <td>81.000000</td>\n",
       "      <td>81.000000</td>\n",
       "      <td>81.000000</td>\n",
       "      <td>81.000000</td>\n",
       "      <td>81.000000</td>\n",
       "    </tr>\n",
       "    <tr>\n",
       "      <th>mean</th>\n",
       "      <td>3.000000</td>\n",
       "      <td>3.061728</td>\n",
       "      <td>2.629630</td>\n",
       "      <td>8.407407</td>\n",
       "      <td>1.024691</td>\n",
       "      <td>0.530864</td>\n",
       "      <td>0.938272</td>\n",
       "      <td>0.604938</td>\n",
       "      <td>0.666667</td>\n",
       "      <td>0.024691</td>\n",
       "    </tr>\n",
       "    <tr>\n",
       "      <th>std</th>\n",
       "      <td>1.981161</td>\n",
       "      <td>0.953227</td>\n",
       "      <td>1.400397</td>\n",
       "      <td>1.954340</td>\n",
       "      <td>0.222222</td>\n",
       "      <td>1.215385</td>\n",
       "      <td>1.486150</td>\n",
       "      <td>0.846744</td>\n",
       "      <td>1.303840</td>\n",
       "      <td>0.156150</td>\n",
       "    </tr>\n",
       "    <tr>\n",
       "      <th>min</th>\n",
       "      <td>1.000000</td>\n",
       "      <td>1.000000</td>\n",
       "      <td>1.000000</td>\n",
       "      <td>1.000000</td>\n",
       "      <td>1.000000</td>\n",
       "      <td>0.000000</td>\n",
       "      <td>0.000000</td>\n",
       "      <td>0.000000</td>\n",
       "      <td>0.000000</td>\n",
       "      <td>0.000000</td>\n",
       "    </tr>\n",
       "    <tr>\n",
       "      <th>25%</th>\n",
       "      <td>2.000000</td>\n",
       "      <td>2.000000</td>\n",
       "      <td>1.000000</td>\n",
       "      <td>9.000000</td>\n",
       "      <td>1.000000</td>\n",
       "      <td>0.000000</td>\n",
       "      <td>0.000000</td>\n",
       "      <td>0.000000</td>\n",
       "      <td>0.000000</td>\n",
       "      <td>0.000000</td>\n",
       "    </tr>\n",
       "    <tr>\n",
       "      <th>50%</th>\n",
       "      <td>2.000000</td>\n",
       "      <td>3.000000</td>\n",
       "      <td>3.000000</td>\n",
       "      <td>9.000000</td>\n",
       "      <td>1.000000</td>\n",
       "      <td>0.000000</td>\n",
       "      <td>0.000000</td>\n",
       "      <td>0.000000</td>\n",
       "      <td>0.000000</td>\n",
       "      <td>0.000000</td>\n",
       "    </tr>\n",
       "    <tr>\n",
       "      <th>75%</th>\n",
       "      <td>3.000000</td>\n",
       "      <td>4.000000</td>\n",
       "      <td>4.000000</td>\n",
       "      <td>9.000000</td>\n",
       "      <td>1.000000</td>\n",
       "      <td>1.000000</td>\n",
       "      <td>2.000000</td>\n",
       "      <td>1.000000</td>\n",
       "      <td>1.000000</td>\n",
       "      <td>0.000000</td>\n",
       "    </tr>\n",
       "    <tr>\n",
       "      <th>max</th>\n",
       "      <td>7.000000</td>\n",
       "      <td>4.000000</td>\n",
       "      <td>4.000000</td>\n",
       "      <td>9.000000</td>\n",
       "      <td>3.000000</td>\n",
       "      <td>8.000000</td>\n",
       "      <td>10.000000</td>\n",
       "      <td>5.000000</td>\n",
       "      <td>5.000000</td>\n",
       "      <td>1.000000</td>\n",
       "    </tr>\n",
       "  </tbody>\n",
       "</table>\n",
       "</div>"
      ],
      "text/plain": [
       "       NatureAccident  RoadFeature  RoadCondition  IntersectionTypeControl  \\\n",
       "count       81.000000    81.000000      81.000000                81.000000   \n",
       "mean         3.000000     3.061728       2.629630                 8.407407   \n",
       "std          1.981161     0.953227       1.400397                 1.954340   \n",
       "min          1.000000     1.000000       1.000000                 1.000000   \n",
       "25%          2.000000     2.000000       1.000000                 9.000000   \n",
       "50%          2.000000     3.000000       3.000000                 9.000000   \n",
       "75%          3.000000     4.000000       4.000000                 9.000000   \n",
       "max          7.000000     4.000000       4.000000                 9.000000   \n",
       "\n",
       "       WeatherCondition      Fatal   Grevious      Minor    Injured  \\\n",
       "count         81.000000  81.000000  81.000000  81.000000  81.000000   \n",
       "mean           1.024691   0.530864   0.938272   0.604938   0.666667   \n",
       "std            0.222222   1.215385   1.486150   0.846744   1.303840   \n",
       "min            1.000000   0.000000   0.000000   0.000000   0.000000   \n",
       "25%            1.000000   0.000000   0.000000   0.000000   0.000000   \n",
       "50%            1.000000   0.000000   0.000000   0.000000   0.000000   \n",
       "75%            1.000000   1.000000   2.000000   1.000000   1.000000   \n",
       "max            3.000000   8.000000  10.000000   5.000000   5.000000   \n",
       "\n",
       "       NumAnimalsKilled  \n",
       "count         81.000000  \n",
       "mean           0.024691  \n",
       "std            0.156150  \n",
       "min            0.000000  \n",
       "25%            0.000000  \n",
       "50%            0.000000  \n",
       "75%            0.000000  \n",
       "max            1.000000  "
      ]
     },
     "execution_count": 91,
     "metadata": {},
     "output_type": "execute_result"
    }
   ],
   "source": [
    "df1.describe()"
   ]
  },
  {
   "cell_type": "markdown",
   "id": "2d8fbc87",
   "metadata": {},
   "source": [
    "### Checking for total number of occurences for value 0."
   ]
  },
  {
   "cell_type": "code",
   "execution_count": 92,
   "id": "839a7969",
   "metadata": {},
   "outputs": [
    {
     "name": "stdout",
     "output_type": "stream",
     "text": [
      "<class 'numpy.int64'>\n",
      "79\n"
     ]
    }
   ],
   "source": [
    "print(type(df1['NumAnimalsKilled'][0]))\n",
    "count = 0\n",
    "for i in range(0,len(df1)):\n",
    "    if df1.iloc[i]['NumAnimalsKilled'] == 0:\n",
    "        count +=1\n",
    "print(count)"
   ]
  },
  {
   "cell_type": "markdown",
   "id": "dbbbb551",
   "metadata": {},
   "source": [
    "### Checking for total number of occurences for value > 0."
   ]
  },
  {
   "cell_type": "code",
   "execution_count": 93,
   "id": "00f9bda8",
   "metadata": {},
   "outputs": [
    {
     "name": "stdout",
     "output_type": "stream",
     "text": [
      "2\n"
     ]
    }
   ],
   "source": [
    "count = 0\n",
    "for i in range(0,len(df1)):\n",
    "    if df1.iloc[i]['NumAnimalsKilled'] > 0:\n",
    "        count +=1\n",
    "print(count)"
   ]
  },
  {
   "cell_type": "markdown",
   "id": "e4447055",
   "metadata": {},
   "source": [
    "### Since, 79 out of 81 entries are 0 which means it will not affect our output hence we will drop those columns."
   ]
  },
  {
   "cell_type": "code",
   "execution_count": 94,
   "id": "56a57ec8",
   "metadata": {},
   "outputs": [],
   "source": [
    "df1 = df1.drop(['NumAnimalsKilled'], axis=1)"
   ]
  },
  {
   "cell_type": "markdown",
   "id": "beeb861e",
   "metadata": {},
   "source": [
    "### Checking for unique elements and their occurences in the following columns."
   ]
  },
  {
   "cell_type": "markdown",
   "id": "f5fcee87",
   "metadata": {},
   "source": [
    "#### Injured"
   ]
  },
  {
   "cell_type": "code",
   "execution_count": 95,
   "id": "201f43c6",
   "metadata": {},
   "outputs": [
    {
     "name": "stdout",
     "output_type": "stream",
     "text": [
      "[0, 1, 2, 3, 4, 5]\n",
      "0 : 60\n",
      "1 : 4\n",
      "2 : 8\n",
      "3 : 5\n",
      "4 : 1\n",
      "5 : 3\n"
     ]
    }
   ],
   "source": [
    "#checking for unique values in injured column and their occurences\n",
    "arr = df1['Injured'].unique()\n",
    "list = []\n",
    "for i in arr:\n",
    "    list.append(i)\n",
    "list.sort()\n",
    "print(list)\n",
    "for j in list:\n",
    "    count = 0\n",
    "    for i in range(0,len(df1)):\n",
    "        if df1.iloc[i]['Injured'] == j:\n",
    "            count +=1\n",
    "    print(j,\":\",count)"
   ]
  },
  {
   "cell_type": "markdown",
   "id": "c3c1fb54",
   "metadata": {},
   "source": [
    "#### Minor"
   ]
  },
  {
   "cell_type": "code",
   "execution_count": 96,
   "id": "891bc729",
   "metadata": {},
   "outputs": [
    {
     "name": "stdout",
     "output_type": "stream",
     "text": [
      "[0, 1, 2, 3, 5]\n",
      "0 : 44\n",
      "1 : 29\n",
      "2 : 6\n",
      "3 : 1\n",
      "5 : 1\n"
     ]
    }
   ],
   "source": [
    "#checking for unique values in Minor column and their occurences\n",
    "arr = df1['Minor'].unique()\n",
    "list = []\n",
    "for i in arr:\n",
    "    list.append(i)\n",
    "list.sort()\n",
    "print(list)\n",
    "for j in list:\n",
    "    count = 0\n",
    "    for i in range(0,len(df1)):\n",
    "        if df1.iloc[i]['Minor'] == j:\n",
    "            count +=1\n",
    "    print(j,\":\",count)"
   ]
  },
  {
   "cell_type": "markdown",
   "id": "d922db04",
   "metadata": {},
   "source": [
    "#### Grevious"
   ]
  },
  {
   "cell_type": "code",
   "execution_count": 97,
   "id": "6ed79ba1",
   "metadata": {},
   "outputs": [
    {
     "name": "stdout",
     "output_type": "stream",
     "text": [
      "[0, 1, 2, 3, 5, 10]\n",
      "0 : 42\n",
      "1 : 17\n",
      "2 : 18\n",
      "3 : 1\n",
      "5 : 2\n",
      "10 : 1\n"
     ]
    }
   ],
   "source": [
    "#checking for unique values in Grevious column and their occurences\n",
    "arr = df1['Grevious'].unique()\n",
    "list = []\n",
    "for i in arr:\n",
    "    list.append(i)\n",
    "list.sort()\n",
    "print(list)\n",
    "for j in list:\n",
    "    count = 0\n",
    "    for i in range(0,len(df1)):\n",
    "        if df1.iloc[i]['Grevious'] == j:\n",
    "            count +=1\n",
    "    print(j,\":\",count)"
   ]
  },
  {
   "cell_type": "markdown",
   "id": "3861e6f1",
   "metadata": {},
   "source": [
    "#### Fatal"
   ]
  },
  {
   "cell_type": "code",
   "execution_count": 98,
   "id": "2c120c18",
   "metadata": {},
   "outputs": [
    {
     "name": "stdout",
     "output_type": "stream",
     "text": [
      "[0, 1, 2, 3, 5, 8]\n",
      "0 : 59\n",
      "1 : 11\n",
      "2 : 8\n",
      "3 : 1\n",
      "5 : 1\n",
      "8 : 1\n"
     ]
    }
   ],
   "source": [
    "#checking for unique values in Fatal column and their occurences\n",
    "arr = df1['Fatal'].unique()\n",
    "list = []\n",
    "for i in arr:\n",
    "    list.append(i)\n",
    "list.sort()\n",
    "print(list)\n",
    "for j in list:\n",
    "    count = 0\n",
    "    for i in range(0,len(df1)):\n",
    "        if df1.iloc[i]['Fatal'] == j:\n",
    "            count +=1\n",
    "    print(j,\":\",count)"
   ]
  },
  {
   "cell_type": "markdown",
   "id": "24f3e5c0",
   "metadata": {},
   "source": [
    "#### HelpProvidedByAmbulancePatrol"
   ]
  },
  {
   "cell_type": "code",
   "execution_count": 99,
   "id": "5d4b6abb",
   "metadata": {},
   "outputs": [
    {
     "name": "stdout",
     "output_type": "stream",
     "text": [
      "['Ambulance', 'Ambulance/Petrol Vehicle', 'Petrol Vehicle']\n",
      "Ambulance : 13\n",
      "Ambulance/Petrol Vehicle : 20\n",
      "Petrol Vehicle : 48\n"
     ]
    }
   ],
   "source": [
    "#checking for unique values in HelpProvidedByAmbulancePatrol column and their occurences\n",
    "arr = df1['HelpProvidedByAmbulancePatrol'].unique()\n",
    "list = []\n",
    "for i in arr:\n",
    "    list.append(i)\n",
    "list.sort()\n",
    "print(list)\n",
    "for j in list:\n",
    "    count = 0\n",
    "    for i in range(0,len(df1)):\n",
    "        if df1.iloc[i]['HelpProvidedByAmbulancePatrol'] == j:\n",
    "            count +=1\n",
    "    print(j,\":\",count)"
   ]
  },
  {
   "cell_type": "markdown",
   "id": "771c86ee",
   "metadata": {},
   "source": [
    "### Now, Verifying the dataset just to make sure all the necessary changes are there"
   ]
  },
  {
   "cell_type": "code",
   "execution_count": 100,
   "id": "587cd41b",
   "metadata": {},
   "outputs": [
    {
     "data": {
      "text/html": [
       "<div>\n",
       "<style scoped>\n",
       "    .dataframe tbody tr th:only-of-type {\n",
       "        vertical-align: middle;\n",
       "    }\n",
       "\n",
       "    .dataframe tbody tr th {\n",
       "        vertical-align: top;\n",
       "    }\n",
       "\n",
       "    .dataframe thead th {\n",
       "        text-align: right;\n",
       "    }\n",
       "</style>\n",
       "<table border=\"1\" class=\"dataframe\">\n",
       "  <thead>\n",
       "    <tr style=\"text-align: right;\">\n",
       "      <th></th>\n",
       "      <th>Date</th>\n",
       "      <th>TimeOfAcc</th>\n",
       "      <th>AccLocation</th>\n",
       "      <th>NatureAccident</th>\n",
       "      <th>ClassificationOfAccident</th>\n",
       "      <th>Causes</th>\n",
       "      <th>RoadFeature</th>\n",
       "      <th>RoadCondition</th>\n",
       "      <th>IntersectionTypeControl</th>\n",
       "      <th>WeatherCondition</th>\n",
       "      <th>VehicleResponsible</th>\n",
       "      <th>Fatal</th>\n",
       "      <th>Grevious</th>\n",
       "      <th>Minor</th>\n",
       "      <th>Injured</th>\n",
       "      <th>HelpProvidedByAmbulancePatrol</th>\n",
       "      <th>Remarks</th>\n",
       "    </tr>\n",
       "  </thead>\n",
       "  <tbody>\n",
       "    <tr>\n",
       "      <th>0</th>\n",
       "      <td>9/6/2015</td>\n",
       "      <td>09:00 AM</td>\n",
       "      <td>Ch. 69.5006</td>\n",
       "      <td>2</td>\n",
       "      <td>2</td>\n",
       "      <td>2</td>\n",
       "      <td>2</td>\n",
       "      <td>1</td>\n",
       "      <td>9</td>\n",
       "      <td>1</td>\n",
       "      <td>One Diesel Truck collapsed</td>\n",
       "      <td>0</td>\n",
       "      <td>2</td>\n",
       "      <td>1</td>\n",
       "      <td>0</td>\n",
       "      <td>Petrol Vehicle</td>\n",
       "      <td>NaN</td>\n",
       "    </tr>\n",
       "    <tr>\n",
       "      <th>1</th>\n",
       "      <td>9/5/2014</td>\n",
       "      <td>07:18 AM</td>\n",
       "      <td>72.500</td>\n",
       "      <td>7</td>\n",
       "      <td>1</td>\n",
       "      <td>2</td>\n",
       "      <td>2</td>\n",
       "      <td>3</td>\n",
       "      <td>9</td>\n",
       "      <td>1</td>\n",
       "      <td>Lorry &amp; Scorpio</td>\n",
       "      <td>2</td>\n",
       "      <td>0</td>\n",
       "      <td>0</td>\n",
       "      <td>0</td>\n",
       "      <td>Ambulance</td>\n",
       "      <td>NaN</td>\n",
       "    </tr>\n",
       "    <tr>\n",
       "      <th>4</th>\n",
       "      <td>8/4/2015</td>\n",
       "      <td>08:23 AM</td>\n",
       "      <td>126.800 KM RHS</td>\n",
       "      <td>2</td>\n",
       "      <td>2</td>\n",
       "      <td>2</td>\n",
       "      <td>4</td>\n",
       "      <td>4</td>\n",
       "      <td>9</td>\n",
       "      <td>1</td>\n",
       "      <td>Car</td>\n",
       "      <td>0</td>\n",
       "      <td>2</td>\n",
       "      <td>1</td>\n",
       "      <td>1</td>\n",
       "      <td>Petrol Vehicle</td>\n",
       "      <td>A car upside due to over speed</td>\n",
       "    </tr>\n",
       "    <tr>\n",
       "      <th>5</th>\n",
       "      <td>8/4/2015</td>\n",
       "      <td>08:23 AM</td>\n",
       "      <td>126.800 KM RHS</td>\n",
       "      <td>2</td>\n",
       "      <td>3</td>\n",
       "      <td>2</td>\n",
       "      <td>4</td>\n",
       "      <td>4</td>\n",
       "      <td>9</td>\n",
       "      <td>1</td>\n",
       "      <td>Car</td>\n",
       "      <td>0</td>\n",
       "      <td>2</td>\n",
       "      <td>1</td>\n",
       "      <td>1</td>\n",
       "      <td>Petrol Vehicle</td>\n",
       "      <td>A car upside due to over speed</td>\n",
       "    </tr>\n",
       "    <tr>\n",
       "      <th>6</th>\n",
       "      <td>8/4/2015</td>\n",
       "      <td>08:23 AM</td>\n",
       "      <td>126.800 KM RHS</td>\n",
       "      <td>2</td>\n",
       "      <td>4</td>\n",
       "      <td>2</td>\n",
       "      <td>4</td>\n",
       "      <td>4</td>\n",
       "      <td>9</td>\n",
       "      <td>1</td>\n",
       "      <td>Car</td>\n",
       "      <td>0</td>\n",
       "      <td>2</td>\n",
       "      <td>1</td>\n",
       "      <td>1</td>\n",
       "      <td>Petrol Vehicle</td>\n",
       "      <td>A car upside due to over speed</td>\n",
       "    </tr>\n",
       "  </tbody>\n",
       "</table>\n",
       "</div>"
      ],
      "text/plain": [
       "       Date TimeOfAcc     AccLocation  NatureAccident  \\\n",
       "0  9/6/2015  09:00 AM     Ch. 69.5006               2   \n",
       "1  9/5/2014  07:18 AM          72.500               7   \n",
       "4  8/4/2015  08:23 AM  126.800 KM RHS               2   \n",
       "5  8/4/2015  08:23 AM  126.800 KM RHS               2   \n",
       "6  8/4/2015  08:23 AM  126.800 KM RHS               2   \n",
       "\n",
       "  ClassificationOfAccident Causes  RoadFeature  RoadCondition  \\\n",
       "0                        2      2            2              1   \n",
       "1                        1      2            2              3   \n",
       "4                        2      2            4              4   \n",
       "5                        3      2            4              4   \n",
       "6                        4      2            4              4   \n",
       "\n",
       "   IntersectionTypeControl  WeatherCondition          VehicleResponsible  \\\n",
       "0                        9                 1  One Diesel Truck collapsed   \n",
       "1                        9                 1             Lorry & Scorpio   \n",
       "4                        9                 1                         Car   \n",
       "5                        9                 1                         Car   \n",
       "6                        9                 1                         Car   \n",
       "\n",
       "   Fatal  Grevious  Minor  Injured HelpProvidedByAmbulancePatrol  \\\n",
       "0      0         2      1        0                Petrol Vehicle   \n",
       "1      2         0      0        0                     Ambulance   \n",
       "4      0         2      1        1                Petrol Vehicle   \n",
       "5      0         2      1        1                Petrol Vehicle   \n",
       "6      0         2      1        1                Petrol Vehicle   \n",
       "\n",
       "                          Remarks  \n",
       "0                             NaN  \n",
       "1                             NaN  \n",
       "4  A car upside due to over speed  \n",
       "5  A car upside due to over speed  \n",
       "6  A car upside due to over speed  "
      ]
     },
     "execution_count": 100,
     "metadata": {},
     "output_type": "execute_result"
    }
   ],
   "source": [
    "df1.head()"
   ]
  },
  {
   "cell_type": "markdown",
   "id": "68c72f6e",
   "metadata": {},
   "source": [
    "### Encoding the HelpProvidedByAmbulancePatrol column values"
   ]
  },
  {
   "cell_type": "code",
   "execution_count": 126,
   "id": "848b8c5c",
   "metadata": {},
   "outputs": [],
   "source": [
    "mapping = {'Ambulance': 0, 'Ambulance/Petrol Vehicle': 1, 'Petrol Vehicle':2}\n",
    "df1 = df1.replace({'HelpProvidedByAmbulancePatrol': mapping})"
   ]
  },
  {
   "cell_type": "markdown",
   "id": "4711a0d7",
   "metadata": {},
   "source": [
    "### Now, verifying the dataset to make sure that encoding is successfully done."
   ]
  },
  {
   "cell_type": "code",
   "execution_count": 127,
   "id": "6c901462",
   "metadata": {},
   "outputs": [
    {
     "data": {
      "text/html": [
       "<div>\n",
       "<style scoped>\n",
       "    .dataframe tbody tr th:only-of-type {\n",
       "        vertical-align: middle;\n",
       "    }\n",
       "\n",
       "    .dataframe tbody tr th {\n",
       "        vertical-align: top;\n",
       "    }\n",
       "\n",
       "    .dataframe thead th {\n",
       "        text-align: right;\n",
       "    }\n",
       "</style>\n",
       "<table border=\"1\" class=\"dataframe\">\n",
       "  <thead>\n",
       "    <tr style=\"text-align: right;\">\n",
       "      <th></th>\n",
       "      <th>Date</th>\n",
       "      <th>TimeOfAcc</th>\n",
       "      <th>AccLocation</th>\n",
       "      <th>NatureAccident</th>\n",
       "      <th>ClassificationOfAccident</th>\n",
       "      <th>Causes</th>\n",
       "      <th>RoadFeature</th>\n",
       "      <th>RoadCondition</th>\n",
       "      <th>IntersectionTypeControl</th>\n",
       "      <th>WeatherCondition</th>\n",
       "      <th>VehicleResponsible</th>\n",
       "      <th>Fatal</th>\n",
       "      <th>Grevious</th>\n",
       "      <th>Minor</th>\n",
       "      <th>Injured</th>\n",
       "      <th>HelpProvidedByAmbulancePatrol</th>\n",
       "      <th>Remarks</th>\n",
       "    </tr>\n",
       "  </thead>\n",
       "  <tbody>\n",
       "    <tr>\n",
       "      <th>0</th>\n",
       "      <td>9/6/2015</td>\n",
       "      <td>09:00 AM</td>\n",
       "      <td>Ch. 69.5006</td>\n",
       "      <td>2</td>\n",
       "      <td>2</td>\n",
       "      <td>2</td>\n",
       "      <td>2</td>\n",
       "      <td>1</td>\n",
       "      <td>9</td>\n",
       "      <td>1</td>\n",
       "      <td>One Diesel Truck collapsed</td>\n",
       "      <td>0</td>\n",
       "      <td>2</td>\n",
       "      <td>1</td>\n",
       "      <td>0</td>\n",
       "      <td>2</td>\n",
       "      <td>NaN</td>\n",
       "    </tr>\n",
       "    <tr>\n",
       "      <th>1</th>\n",
       "      <td>9/5/2014</td>\n",
       "      <td>07:18 AM</td>\n",
       "      <td>72.500</td>\n",
       "      <td>7</td>\n",
       "      <td>1</td>\n",
       "      <td>2</td>\n",
       "      <td>2</td>\n",
       "      <td>3</td>\n",
       "      <td>9</td>\n",
       "      <td>1</td>\n",
       "      <td>Lorry &amp; Scorpio</td>\n",
       "      <td>2</td>\n",
       "      <td>0</td>\n",
       "      <td>0</td>\n",
       "      <td>0</td>\n",
       "      <td>0</td>\n",
       "      <td>NaN</td>\n",
       "    </tr>\n",
       "    <tr>\n",
       "      <th>4</th>\n",
       "      <td>8/4/2015</td>\n",
       "      <td>08:23 AM</td>\n",
       "      <td>126.800 KM RHS</td>\n",
       "      <td>2</td>\n",
       "      <td>2</td>\n",
       "      <td>2</td>\n",
       "      <td>4</td>\n",
       "      <td>4</td>\n",
       "      <td>9</td>\n",
       "      <td>1</td>\n",
       "      <td>Car</td>\n",
       "      <td>0</td>\n",
       "      <td>2</td>\n",
       "      <td>1</td>\n",
       "      <td>1</td>\n",
       "      <td>2</td>\n",
       "      <td>A car upside due to over speed</td>\n",
       "    </tr>\n",
       "    <tr>\n",
       "      <th>5</th>\n",
       "      <td>8/4/2015</td>\n",
       "      <td>08:23 AM</td>\n",
       "      <td>126.800 KM RHS</td>\n",
       "      <td>2</td>\n",
       "      <td>3</td>\n",
       "      <td>2</td>\n",
       "      <td>4</td>\n",
       "      <td>4</td>\n",
       "      <td>9</td>\n",
       "      <td>1</td>\n",
       "      <td>Car</td>\n",
       "      <td>0</td>\n",
       "      <td>2</td>\n",
       "      <td>1</td>\n",
       "      <td>1</td>\n",
       "      <td>2</td>\n",
       "      <td>A car upside due to over speed</td>\n",
       "    </tr>\n",
       "    <tr>\n",
       "      <th>6</th>\n",
       "      <td>8/4/2015</td>\n",
       "      <td>08:23 AM</td>\n",
       "      <td>126.800 KM RHS</td>\n",
       "      <td>2</td>\n",
       "      <td>4</td>\n",
       "      <td>2</td>\n",
       "      <td>4</td>\n",
       "      <td>4</td>\n",
       "      <td>9</td>\n",
       "      <td>1</td>\n",
       "      <td>Car</td>\n",
       "      <td>0</td>\n",
       "      <td>2</td>\n",
       "      <td>1</td>\n",
       "      <td>1</td>\n",
       "      <td>2</td>\n",
       "      <td>A car upside due to over speed</td>\n",
       "    </tr>\n",
       "  </tbody>\n",
       "</table>\n",
       "</div>"
      ],
      "text/plain": [
       "       Date TimeOfAcc     AccLocation  NatureAccident  \\\n",
       "0  9/6/2015  09:00 AM     Ch. 69.5006               2   \n",
       "1  9/5/2014  07:18 AM          72.500               7   \n",
       "4  8/4/2015  08:23 AM  126.800 KM RHS               2   \n",
       "5  8/4/2015  08:23 AM  126.800 KM RHS               2   \n",
       "6  8/4/2015  08:23 AM  126.800 KM RHS               2   \n",
       "\n",
       "  ClassificationOfAccident Causes  RoadFeature  RoadCondition  \\\n",
       "0                        2      2            2              1   \n",
       "1                        1      2            2              3   \n",
       "4                        2      2            4              4   \n",
       "5                        3      2            4              4   \n",
       "6                        4      2            4              4   \n",
       "\n",
       "   IntersectionTypeControl  WeatherCondition          VehicleResponsible  \\\n",
       "0                        9                 1  One Diesel Truck collapsed   \n",
       "1                        9                 1             Lorry & Scorpio   \n",
       "4                        9                 1                         Car   \n",
       "5                        9                 1                         Car   \n",
       "6                        9                 1                         Car   \n",
       "\n",
       "   Fatal  Grevious  Minor  Injured  HelpProvidedByAmbulancePatrol  \\\n",
       "0      0         2      1        0                              2   \n",
       "1      2         0      0        0                              0   \n",
       "4      0         2      1        1                              2   \n",
       "5      0         2      1        1                              2   \n",
       "6      0         2      1        1                              2   \n",
       "\n",
       "                          Remarks  \n",
       "0                             NaN  \n",
       "1                             NaN  \n",
       "4  A car upside due to over speed  \n",
       "5  A car upside due to over speed  \n",
       "6  A car upside due to over speed  "
      ]
     },
     "execution_count": 127,
     "metadata": {},
     "output_type": "execute_result"
    }
   ],
   "source": [
    "df1.head()"
   ]
  },
  {
   "cell_type": "markdown",
   "id": "1470fdca",
   "metadata": {},
   "source": [
    "### Checking for total number of rows with Dates ending with year = 2014"
   ]
  },
  {
   "cell_type": "code",
   "execution_count": 128,
   "id": "a6f4be7e",
   "metadata": {},
   "outputs": [
    {
     "name": "stdout",
     "output_type": "stream",
     "text": [
      "30\n"
     ]
    }
   ],
   "source": [
    "li = []\n",
    "for i in df1['Date']:\n",
    "    if '2014' in i:\n",
    "        li.append(i)\n",
    "print(len(li))\n"
   ]
  },
  {
   "cell_type": "markdown",
   "id": "7dad951d",
   "metadata": {},
   "source": [
    "### Separating those rows into another dataset with the name 'df2014'"
   ]
  },
  {
   "cell_type": "code",
   "execution_count": 129,
   "id": "b06b4607",
   "metadata": {},
   "outputs": [],
   "source": [
    "df2014=df1.loc[df1['Date'].isin(li)]"
   ]
  },
  {
   "cell_type": "markdown",
   "id": "09b2a403",
   "metadata": {},
   "source": [
    "### Verifying its length to make sure that all rows are being added to the new dataset"
   ]
  },
  {
   "cell_type": "code",
   "execution_count": 130,
   "id": "c4462e73",
   "metadata": {},
   "outputs": [
    {
     "name": "stdout",
     "output_type": "stream",
     "text": [
      "30\n"
     ]
    },
    {
     "data": {
      "text/html": [
       "<div>\n",
       "<style scoped>\n",
       "    .dataframe tbody tr th:only-of-type {\n",
       "        vertical-align: middle;\n",
       "    }\n",
       "\n",
       "    .dataframe tbody tr th {\n",
       "        vertical-align: top;\n",
       "    }\n",
       "\n",
       "    .dataframe thead th {\n",
       "        text-align: right;\n",
       "    }\n",
       "</style>\n",
       "<table border=\"1\" class=\"dataframe\">\n",
       "  <thead>\n",
       "    <tr style=\"text-align: right;\">\n",
       "      <th></th>\n",
       "      <th>Date</th>\n",
       "      <th>TimeOfAcc</th>\n",
       "      <th>AccLocation</th>\n",
       "      <th>NatureAccident</th>\n",
       "      <th>ClassificationOfAccident</th>\n",
       "      <th>Causes</th>\n",
       "      <th>RoadFeature</th>\n",
       "      <th>RoadCondition</th>\n",
       "      <th>IntersectionTypeControl</th>\n",
       "      <th>WeatherCondition</th>\n",
       "      <th>VehicleResponsible</th>\n",
       "      <th>Fatal</th>\n",
       "      <th>Grevious</th>\n",
       "      <th>Minor</th>\n",
       "      <th>Injured</th>\n",
       "      <th>HelpProvidedByAmbulancePatrol</th>\n",
       "      <th>Remarks</th>\n",
       "    </tr>\n",
       "  </thead>\n",
       "  <tbody>\n",
       "    <tr>\n",
       "      <th>1</th>\n",
       "      <td>9/5/2014</td>\n",
       "      <td>07:18 AM</td>\n",
       "      <td>72.500</td>\n",
       "      <td>7</td>\n",
       "      <td>1</td>\n",
       "      <td>2</td>\n",
       "      <td>2</td>\n",
       "      <td>3</td>\n",
       "      <td>9</td>\n",
       "      <td>1</td>\n",
       "      <td>Lorry &amp; Scorpio</td>\n",
       "      <td>2</td>\n",
       "      <td>0</td>\n",
       "      <td>0</td>\n",
       "      <td>0</td>\n",
       "      <td>0</td>\n",
       "      <td>NaN</td>\n",
       "    </tr>\n",
       "    <tr>\n",
       "      <th>14</th>\n",
       "      <td>5/6/2014</td>\n",
       "      <td>01:25 PM</td>\n",
       "      <td>80.000</td>\n",
       "      <td>7</td>\n",
       "      <td>3</td>\n",
       "      <td>3</td>\n",
       "      <td>2</td>\n",
       "      <td>1</td>\n",
       "      <td>3</td>\n",
       "      <td>1</td>\n",
       "      <td>Lorry RJ19 GA2487 vs Pedestrian</td>\n",
       "      <td>0</td>\n",
       "      <td>0</td>\n",
       "      <td>1</td>\n",
       "      <td>0</td>\n",
       "      <td>2</td>\n",
       "      <td>NaN</td>\n",
       "    </tr>\n",
       "    <tr>\n",
       "      <th>18</th>\n",
       "      <td>5/12/2014</td>\n",
       "      <td>09:00 AM</td>\n",
       "      <td>91.800 LHS</td>\n",
       "      <td>2</td>\n",
       "      <td>1</td>\n",
       "      <td>3</td>\n",
       "      <td>2</td>\n",
       "      <td>1</td>\n",
       "      <td>1</td>\n",
       "      <td>1</td>\n",
       "      <td>Motor Cycle</td>\n",
       "      <td>1</td>\n",
       "      <td>2</td>\n",
       "      <td>1</td>\n",
       "      <td>0</td>\n",
       "      <td>0</td>\n",
       "      <td>Nil</td>\n",
       "    </tr>\n",
       "    <tr>\n",
       "      <th>20</th>\n",
       "      <td>4/5/2014</td>\n",
       "      <td>05:15 AM</td>\n",
       "      <td>60.200RHS</td>\n",
       "      <td>1</td>\n",
       "      <td>1</td>\n",
       "      <td>4</td>\n",
       "      <td>2</td>\n",
       "      <td>4</td>\n",
       "      <td>9</td>\n",
       "      <td>1</td>\n",
       "      <td>Two Wheeler &amp; Lorry</td>\n",
       "      <td>2</td>\n",
       "      <td>2</td>\n",
       "      <td>0</td>\n",
       "      <td>0</td>\n",
       "      <td>0</td>\n",
       "      <td>NaN</td>\n",
       "    </tr>\n",
       "    <tr>\n",
       "      <th>22</th>\n",
       "      <td>30/9/2014</td>\n",
       "      <td>10:30 PM</td>\n",
       "      <td>14.835 LHS</td>\n",
       "      <td>7</td>\n",
       "      <td>2</td>\n",
       "      <td>5</td>\n",
       "      <td>3</td>\n",
       "      <td>1</td>\n",
       "      <td>9</td>\n",
       "      <td>1</td>\n",
       "      <td>LCV(KA 01 AA 1583) HIT KSRTC BUS(KA 19 F 2831)...</td>\n",
       "      <td>0</td>\n",
       "      <td>1</td>\n",
       "      <td>0</td>\n",
       "      <td>0</td>\n",
       "      <td>1</td>\n",
       "      <td>INJURED PERSON SHIFTED TO HARSH HOSPITAL, NO P...</td>\n",
       "    </tr>\n",
       "  </tbody>\n",
       "</table>\n",
       "</div>"
      ],
      "text/plain": [
       "         Date TimeOfAcc AccLocation  NatureAccident ClassificationOfAccident  \\\n",
       "1    9/5/2014  07:18 AM      72.500               7                        1   \n",
       "14   5/6/2014  01:25 PM      80.000               7                        3   \n",
       "18  5/12/2014  09:00 AM  91.800 LHS               2                        1   \n",
       "20   4/5/2014  05:15 AM   60.200RHS               1                        1   \n",
       "22  30/9/2014  10:30 PM  14.835 LHS               7                        2   \n",
       "\n",
       "   Causes  RoadFeature  RoadCondition  IntersectionTypeControl  \\\n",
       "1       2            2              3                        9   \n",
       "14      3            2              1                        3   \n",
       "18      3            2              1                        1   \n",
       "20      4            2              4                        9   \n",
       "22      5            3              1                        9   \n",
       "\n",
       "    WeatherCondition                                 VehicleResponsible  \\\n",
       "1                  1                                    Lorry & Scorpio   \n",
       "14                 1                    Lorry RJ19 GA2487 vs Pedestrian   \n",
       "18                 1                                        Motor Cycle   \n",
       "20                 1                                Two Wheeler & Lorry   \n",
       "22                 1  LCV(KA 01 AA 1583) HIT KSRTC BUS(KA 19 F 2831)...   \n",
       "\n",
       "    Fatal  Grevious  Minor  Injured  HelpProvidedByAmbulancePatrol  \\\n",
       "1       2         0      0        0                              0   \n",
       "14      0         0      1        0                              2   \n",
       "18      1         2      1        0                              0   \n",
       "20      2         2      0        0                              0   \n",
       "22      0         1      0        0                              1   \n",
       "\n",
       "                                              Remarks  \n",
       "1                                                 NaN  \n",
       "14                                                NaN  \n",
       "18                                                Nil  \n",
       "20                                                NaN  \n",
       "22  INJURED PERSON SHIFTED TO HARSH HOSPITAL, NO P...  "
      ]
     },
     "execution_count": 130,
     "metadata": {},
     "output_type": "execute_result"
    }
   ],
   "source": [
    "print(len(df2014))\n",
    "df2014.head()"
   ]
  },
  {
   "cell_type": "markdown",
   "id": "e7e6f083",
   "metadata": {},
   "source": [
    "### Checking for total number of rows with Dates ending with the name 'df2015'"
   ]
  },
  {
   "cell_type": "code",
   "execution_count": 131,
   "id": "15306796",
   "metadata": {},
   "outputs": [],
   "source": [
    "li = []\n",
    "for i in df1['Date']:\n",
    "    if '2015' in i:\n",
    "        li.append(i)"
   ]
  },
  {
   "cell_type": "code",
   "execution_count": 132,
   "id": "2b8eac0a",
   "metadata": {},
   "outputs": [
    {
     "name": "stdout",
     "output_type": "stream",
     "text": [
      "45\n"
     ]
    },
    {
     "data": {
      "text/html": [
       "<div>\n",
       "<style scoped>\n",
       "    .dataframe tbody tr th:only-of-type {\n",
       "        vertical-align: middle;\n",
       "    }\n",
       "\n",
       "    .dataframe tbody tr th {\n",
       "        vertical-align: top;\n",
       "    }\n",
       "\n",
       "    .dataframe thead th {\n",
       "        text-align: right;\n",
       "    }\n",
       "</style>\n",
       "<table border=\"1\" class=\"dataframe\">\n",
       "  <thead>\n",
       "    <tr style=\"text-align: right;\">\n",
       "      <th></th>\n",
       "      <th>Date</th>\n",
       "      <th>TimeOfAcc</th>\n",
       "      <th>AccLocation</th>\n",
       "      <th>NatureAccident</th>\n",
       "      <th>ClassificationOfAccident</th>\n",
       "      <th>Causes</th>\n",
       "      <th>RoadFeature</th>\n",
       "      <th>RoadCondition</th>\n",
       "      <th>IntersectionTypeControl</th>\n",
       "      <th>WeatherCondition</th>\n",
       "      <th>VehicleResponsible</th>\n",
       "      <th>Fatal</th>\n",
       "      <th>Grevious</th>\n",
       "      <th>Minor</th>\n",
       "      <th>Injured</th>\n",
       "      <th>HelpProvidedByAmbulancePatrol</th>\n",
       "      <th>Remarks</th>\n",
       "    </tr>\n",
       "  </thead>\n",
       "  <tbody>\n",
       "    <tr>\n",
       "      <th>0</th>\n",
       "      <td>9/6/2015</td>\n",
       "      <td>09:00 AM</td>\n",
       "      <td>Ch. 69.5006</td>\n",
       "      <td>2</td>\n",
       "      <td>2</td>\n",
       "      <td>2</td>\n",
       "      <td>2</td>\n",
       "      <td>1</td>\n",
       "      <td>9</td>\n",
       "      <td>1</td>\n",
       "      <td>One Diesel Truck collapsed</td>\n",
       "      <td>0</td>\n",
       "      <td>2</td>\n",
       "      <td>1</td>\n",
       "      <td>0</td>\n",
       "      <td>2</td>\n",
       "      <td>NaN</td>\n",
       "    </tr>\n",
       "    <tr>\n",
       "      <th>4</th>\n",
       "      <td>8/4/2015</td>\n",
       "      <td>08:23 AM</td>\n",
       "      <td>126.800 KM RHS</td>\n",
       "      <td>2</td>\n",
       "      <td>2</td>\n",
       "      <td>2</td>\n",
       "      <td>4</td>\n",
       "      <td>4</td>\n",
       "      <td>9</td>\n",
       "      <td>1</td>\n",
       "      <td>Car</td>\n",
       "      <td>0</td>\n",
       "      <td>2</td>\n",
       "      <td>1</td>\n",
       "      <td>1</td>\n",
       "      <td>2</td>\n",
       "      <td>A car upside due to over speed</td>\n",
       "    </tr>\n",
       "    <tr>\n",
       "      <th>5</th>\n",
       "      <td>8/4/2015</td>\n",
       "      <td>08:23 AM</td>\n",
       "      <td>126.800 KM RHS</td>\n",
       "      <td>2</td>\n",
       "      <td>3</td>\n",
       "      <td>2</td>\n",
       "      <td>4</td>\n",
       "      <td>4</td>\n",
       "      <td>9</td>\n",
       "      <td>1</td>\n",
       "      <td>Car</td>\n",
       "      <td>0</td>\n",
       "      <td>2</td>\n",
       "      <td>1</td>\n",
       "      <td>1</td>\n",
       "      <td>2</td>\n",
       "      <td>A car upside due to over speed</td>\n",
       "    </tr>\n",
       "    <tr>\n",
       "      <th>6</th>\n",
       "      <td>8/4/2015</td>\n",
       "      <td>08:23 AM</td>\n",
       "      <td>126.800 KM RHS</td>\n",
       "      <td>2</td>\n",
       "      <td>4</td>\n",
       "      <td>2</td>\n",
       "      <td>4</td>\n",
       "      <td>4</td>\n",
       "      <td>9</td>\n",
       "      <td>1</td>\n",
       "      <td>Car</td>\n",
       "      <td>0</td>\n",
       "      <td>2</td>\n",
       "      <td>1</td>\n",
       "      <td>1</td>\n",
       "      <td>2</td>\n",
       "      <td>A car upside due to over speed</td>\n",
       "    </tr>\n",
       "    <tr>\n",
       "      <th>7</th>\n",
       "      <td>7/4/2015</td>\n",
       "      <td>08:30 AM</td>\n",
       "      <td>160.110 KM RHS</td>\n",
       "      <td>2</td>\n",
       "      <td>3</td>\n",
       "      <td>2</td>\n",
       "      <td>4</td>\n",
       "      <td>4</td>\n",
       "      <td>9</td>\n",
       "      <td>1</td>\n",
       "      <td>Car</td>\n",
       "      <td>0</td>\n",
       "      <td>0</td>\n",
       "      <td>1</td>\n",
       "      <td>0</td>\n",
       "      <td>2</td>\n",
       "      <td>accident due to over speed</td>\n",
       "    </tr>\n",
       "  </tbody>\n",
       "</table>\n",
       "</div>"
      ],
      "text/plain": [
       "       Date TimeOfAcc     AccLocation  NatureAccident  \\\n",
       "0  9/6/2015  09:00 AM     Ch. 69.5006               2   \n",
       "4  8/4/2015  08:23 AM  126.800 KM RHS               2   \n",
       "5  8/4/2015  08:23 AM  126.800 KM RHS               2   \n",
       "6  8/4/2015  08:23 AM  126.800 KM RHS               2   \n",
       "7  7/4/2015  08:30 AM  160.110 KM RHS               2   \n",
       "\n",
       "  ClassificationOfAccident Causes  RoadFeature  RoadCondition  \\\n",
       "0                        2      2            2              1   \n",
       "4                        2      2            4              4   \n",
       "5                        3      2            4              4   \n",
       "6                        4      2            4              4   \n",
       "7                        3      2            4              4   \n",
       "\n",
       "   IntersectionTypeControl  WeatherCondition          VehicleResponsible  \\\n",
       "0                        9                 1  One Diesel Truck collapsed   \n",
       "4                        9                 1                         Car   \n",
       "5                        9                 1                         Car   \n",
       "6                        9                 1                         Car   \n",
       "7                        9                 1                         Car   \n",
       "\n",
       "   Fatal  Grevious  Minor  Injured  HelpProvidedByAmbulancePatrol  \\\n",
       "0      0         2      1        0                              2   \n",
       "4      0         2      1        1                              2   \n",
       "5      0         2      1        1                              2   \n",
       "6      0         2      1        1                              2   \n",
       "7      0         0      1        0                              2   \n",
       "\n",
       "                          Remarks  \n",
       "0                             NaN  \n",
       "4  A car upside due to over speed  \n",
       "5  A car upside due to over speed  \n",
       "6  A car upside due to over speed  \n",
       "7      accident due to over speed  "
      ]
     },
     "execution_count": 132,
     "metadata": {},
     "output_type": "execute_result"
    }
   ],
   "source": [
    "df2015=df1.loc[df1['Date'].isin(li)]\n",
    "print(len(df2015))\n",
    "df2015.head()"
   ]
  },
  {
   "cell_type": "markdown",
   "id": "ac950b32",
   "metadata": {},
   "source": [
    "### Dropping unnecessary columns such as Date, TimeOfAcc, AccLocation, VehicleResponsible, Remarks as these are of string type which will create an error when passed into ML model."
   ]
  },
  {
   "cell_type": "code",
   "execution_count": 133,
   "id": "b9949d49",
   "metadata": {},
   "outputs": [],
   "source": [
    "#Now, dropping all unnecessary columns from the 2014 dataset\n",
    "df2014 = df2014.drop(['Date','TimeOfAcc','AccLocation','VehicleResponsible','Remarks'], axis=1)"
   ]
  },
  {
   "cell_type": "code",
   "execution_count": 134,
   "id": "7c14475d",
   "metadata": {},
   "outputs": [
    {
     "data": {
      "text/html": [
       "<div>\n",
       "<style scoped>\n",
       "    .dataframe tbody tr th:only-of-type {\n",
       "        vertical-align: middle;\n",
       "    }\n",
       "\n",
       "    .dataframe tbody tr th {\n",
       "        vertical-align: top;\n",
       "    }\n",
       "\n",
       "    .dataframe thead th {\n",
       "        text-align: right;\n",
       "    }\n",
       "</style>\n",
       "<table border=\"1\" class=\"dataframe\">\n",
       "  <thead>\n",
       "    <tr style=\"text-align: right;\">\n",
       "      <th></th>\n",
       "      <th>NatureAccident</th>\n",
       "      <th>ClassificationOfAccident</th>\n",
       "      <th>Causes</th>\n",
       "      <th>RoadFeature</th>\n",
       "      <th>RoadCondition</th>\n",
       "      <th>IntersectionTypeControl</th>\n",
       "      <th>WeatherCondition</th>\n",
       "      <th>Fatal</th>\n",
       "      <th>Grevious</th>\n",
       "      <th>Minor</th>\n",
       "      <th>Injured</th>\n",
       "      <th>HelpProvidedByAmbulancePatrol</th>\n",
       "    </tr>\n",
       "  </thead>\n",
       "  <tbody>\n",
       "    <tr>\n",
       "      <th>1</th>\n",
       "      <td>7</td>\n",
       "      <td>1</td>\n",
       "      <td>2</td>\n",
       "      <td>2</td>\n",
       "      <td>3</td>\n",
       "      <td>9</td>\n",
       "      <td>1</td>\n",
       "      <td>2</td>\n",
       "      <td>0</td>\n",
       "      <td>0</td>\n",
       "      <td>0</td>\n",
       "      <td>0</td>\n",
       "    </tr>\n",
       "    <tr>\n",
       "      <th>14</th>\n",
       "      <td>7</td>\n",
       "      <td>3</td>\n",
       "      <td>3</td>\n",
       "      <td>2</td>\n",
       "      <td>1</td>\n",
       "      <td>3</td>\n",
       "      <td>1</td>\n",
       "      <td>0</td>\n",
       "      <td>0</td>\n",
       "      <td>1</td>\n",
       "      <td>0</td>\n",
       "      <td>2</td>\n",
       "    </tr>\n",
       "    <tr>\n",
       "      <th>18</th>\n",
       "      <td>2</td>\n",
       "      <td>1</td>\n",
       "      <td>3</td>\n",
       "      <td>2</td>\n",
       "      <td>1</td>\n",
       "      <td>1</td>\n",
       "      <td>1</td>\n",
       "      <td>1</td>\n",
       "      <td>2</td>\n",
       "      <td>1</td>\n",
       "      <td>0</td>\n",
       "      <td>0</td>\n",
       "    </tr>\n",
       "    <tr>\n",
       "      <th>20</th>\n",
       "      <td>1</td>\n",
       "      <td>1</td>\n",
       "      <td>4</td>\n",
       "      <td>2</td>\n",
       "      <td>4</td>\n",
       "      <td>9</td>\n",
       "      <td>1</td>\n",
       "      <td>2</td>\n",
       "      <td>2</td>\n",
       "      <td>0</td>\n",
       "      <td>0</td>\n",
       "      <td>0</td>\n",
       "    </tr>\n",
       "    <tr>\n",
       "      <th>22</th>\n",
       "      <td>7</td>\n",
       "      <td>2</td>\n",
       "      <td>5</td>\n",
       "      <td>3</td>\n",
       "      <td>1</td>\n",
       "      <td>9</td>\n",
       "      <td>1</td>\n",
       "      <td>0</td>\n",
       "      <td>1</td>\n",
       "      <td>0</td>\n",
       "      <td>0</td>\n",
       "      <td>1</td>\n",
       "    </tr>\n",
       "  </tbody>\n",
       "</table>\n",
       "</div>"
      ],
      "text/plain": [
       "    NatureAccident ClassificationOfAccident Causes  RoadFeature  \\\n",
       "1                7                        1      2            2   \n",
       "14               7                        3      3            2   \n",
       "18               2                        1      3            2   \n",
       "20               1                        1      4            2   \n",
       "22               7                        2      5            3   \n",
       "\n",
       "    RoadCondition  IntersectionTypeControl  WeatherCondition  Fatal  Grevious  \\\n",
       "1               3                        9                 1      2         0   \n",
       "14              1                        3                 1      0         0   \n",
       "18              1                        1                 1      1         2   \n",
       "20              4                        9                 1      2         2   \n",
       "22              1                        9                 1      0         1   \n",
       "\n",
       "    Minor  Injured  HelpProvidedByAmbulancePatrol  \n",
       "1       0        0                              0  \n",
       "14      1        0                              2  \n",
       "18      1        0                              0  \n",
       "20      0        0                              0  \n",
       "22      0        0                              1  "
      ]
     },
     "execution_count": 134,
     "metadata": {},
     "output_type": "execute_result"
    }
   ],
   "source": [
    "#Now, 2014 Dataset is ready for training.\n",
    "df2014.head()"
   ]
  },
  {
   "cell_type": "code",
   "execution_count": 135,
   "id": "07365072",
   "metadata": {},
   "outputs": [],
   "source": [
    "#Now, dropping all unnecessary columns from the 2015 dataset and dropping ClassificationOfAccident for prediction.\n",
    "df2015 = df2015.drop(['Date','TimeOfAcc','AccLocation','VehicleResponsible','Remarks', 'ClassificationOfAccident'], axis=1)"
   ]
  },
  {
   "cell_type": "code",
   "execution_count": 136,
   "id": "09a4d97a",
   "metadata": {},
   "outputs": [
    {
     "data": {
      "text/html": [
       "<div>\n",
       "<style scoped>\n",
       "    .dataframe tbody tr th:only-of-type {\n",
       "        vertical-align: middle;\n",
       "    }\n",
       "\n",
       "    .dataframe tbody tr th {\n",
       "        vertical-align: top;\n",
       "    }\n",
       "\n",
       "    .dataframe thead th {\n",
       "        text-align: right;\n",
       "    }\n",
       "</style>\n",
       "<table border=\"1\" class=\"dataframe\">\n",
       "  <thead>\n",
       "    <tr style=\"text-align: right;\">\n",
       "      <th></th>\n",
       "      <th>NatureAccident</th>\n",
       "      <th>Causes</th>\n",
       "      <th>RoadFeature</th>\n",
       "      <th>RoadCondition</th>\n",
       "      <th>IntersectionTypeControl</th>\n",
       "      <th>WeatherCondition</th>\n",
       "      <th>Fatal</th>\n",
       "      <th>Grevious</th>\n",
       "      <th>Minor</th>\n",
       "      <th>Injured</th>\n",
       "      <th>HelpProvidedByAmbulancePatrol</th>\n",
       "    </tr>\n",
       "  </thead>\n",
       "  <tbody>\n",
       "    <tr>\n",
       "      <th>0</th>\n",
       "      <td>2</td>\n",
       "      <td>2</td>\n",
       "      <td>2</td>\n",
       "      <td>1</td>\n",
       "      <td>9</td>\n",
       "      <td>1</td>\n",
       "      <td>0</td>\n",
       "      <td>2</td>\n",
       "      <td>1</td>\n",
       "      <td>0</td>\n",
       "      <td>2</td>\n",
       "    </tr>\n",
       "    <tr>\n",
       "      <th>4</th>\n",
       "      <td>2</td>\n",
       "      <td>2</td>\n",
       "      <td>4</td>\n",
       "      <td>4</td>\n",
       "      <td>9</td>\n",
       "      <td>1</td>\n",
       "      <td>0</td>\n",
       "      <td>2</td>\n",
       "      <td>1</td>\n",
       "      <td>1</td>\n",
       "      <td>2</td>\n",
       "    </tr>\n",
       "    <tr>\n",
       "      <th>5</th>\n",
       "      <td>2</td>\n",
       "      <td>2</td>\n",
       "      <td>4</td>\n",
       "      <td>4</td>\n",
       "      <td>9</td>\n",
       "      <td>1</td>\n",
       "      <td>0</td>\n",
       "      <td>2</td>\n",
       "      <td>1</td>\n",
       "      <td>1</td>\n",
       "      <td>2</td>\n",
       "    </tr>\n",
       "    <tr>\n",
       "      <th>6</th>\n",
       "      <td>2</td>\n",
       "      <td>2</td>\n",
       "      <td>4</td>\n",
       "      <td>4</td>\n",
       "      <td>9</td>\n",
       "      <td>1</td>\n",
       "      <td>0</td>\n",
       "      <td>2</td>\n",
       "      <td>1</td>\n",
       "      <td>1</td>\n",
       "      <td>2</td>\n",
       "    </tr>\n",
       "    <tr>\n",
       "      <th>7</th>\n",
       "      <td>2</td>\n",
       "      <td>2</td>\n",
       "      <td>4</td>\n",
       "      <td>4</td>\n",
       "      <td>9</td>\n",
       "      <td>1</td>\n",
       "      <td>0</td>\n",
       "      <td>0</td>\n",
       "      <td>1</td>\n",
       "      <td>0</td>\n",
       "      <td>2</td>\n",
       "    </tr>\n",
       "  </tbody>\n",
       "</table>\n",
       "</div>"
      ],
      "text/plain": [
       "   NatureAccident Causes  RoadFeature  RoadCondition  IntersectionTypeControl  \\\n",
       "0               2      2            2              1                        9   \n",
       "4               2      2            4              4                        9   \n",
       "5               2      2            4              4                        9   \n",
       "6               2      2            4              4                        9   \n",
       "7               2      2            4              4                        9   \n",
       "\n",
       "   WeatherCondition  Fatal  Grevious  Minor  Injured  \\\n",
       "0                 1      0         2      1        0   \n",
       "4                 1      0         2      1        1   \n",
       "5                 1      0         2      1        1   \n",
       "6                 1      0         2      1        1   \n",
       "7                 1      0         0      1        0   \n",
       "\n",
       "   HelpProvidedByAmbulancePatrol  \n",
       "0                              2  \n",
       "4                              2  \n",
       "5                              2  \n",
       "6                              2  \n",
       "7                              2  "
      ]
     },
     "execution_count": 136,
     "metadata": {},
     "output_type": "execute_result"
    }
   ],
   "source": [
    "#Now, 2015 Dataset is ready for prediction.\n",
    "df2015.head()"
   ]
  },
  {
   "cell_type": "markdown",
   "id": "dce56b91",
   "metadata": {},
   "source": [
    "### Splitting, Importing and Initializing our Model"
   ]
  },
  {
   "cell_type": "code",
   "execution_count": 137,
   "id": "ea4da63f",
   "metadata": {},
   "outputs": [],
   "source": [
    "y = df2014[\"ClassificationOfAccident\"]\n",
    "x = df2014.drop([\"ClassificationOfAccident\"], axis=1)"
   ]
  },
  {
   "cell_type": "code",
   "execution_count": 138,
   "id": "5195b278",
   "metadata": {},
   "outputs": [],
   "source": [
    "from sklearn.linear_model import LogisticRegression\n",
    "from sklearn.model_selection import train_test_split\n",
    "logisticRegr = LogisticRegression(solver='lbfgs', max_iter=200)"
   ]
  },
  {
   "cell_type": "code",
   "execution_count": 168,
   "id": "18d9718e",
   "metadata": {},
   "outputs": [],
   "source": [
    "X_train,X_test,y_train,y_test=train_test_split(x,y,test_size=1,train_size=.35,random_state=1)"
   ]
  },
  {
   "cell_type": "code",
   "execution_count": 169,
   "id": "574a816a",
   "metadata": {},
   "outputs": [
    {
     "name": "stdout",
     "output_type": "stream",
     "text": [
      "    NatureAccident Causes  RoadFeature  RoadCondition  \\\n",
      "51               7      2            2              1   \n",
      "\n",
      "    IntersectionTypeControl  WeatherCondition  Fatal  Grevious  Minor  \\\n",
      "51                        9                 1      0         2      0   \n",
      "\n",
      "    Injured  HelpProvidedByAmbulancePatrol  \n",
      "51        0                              1  \n",
      "    NatureAccident Causes  RoadFeature  RoadCondition  \\\n",
      "66               5      7            3              1   \n",
      "33               6      3            3              1   \n",
      "60               7      2            2              3   \n",
      "37               4      4            3              1   \n",
      "62               7      2            3              1   \n",
      "83               4      4            3              1   \n",
      "20               1      4            2              4   \n",
      "81               3      3            3              1   \n",
      "67               4      4            3              1   \n",
      "72               2      2            3              1   \n",
      "\n",
      "    IntersectionTypeControl  WeatherCondition  Fatal  Grevious  Minor  \\\n",
      "66                        9                 1      0         0      0   \n",
      "33                        9                 1      0         0      0   \n",
      "60                        9                 1      1         0      0   \n",
      "37                        9                 1      0         0      0   \n",
      "62                        9                 1      0         0      0   \n",
      "83                        9                 1      2         0      0   \n",
      "20                        9                 1      2         2      0   \n",
      "81                        9                 1      0         0      1   \n",
      "67                        9                 1      0         1      1   \n",
      "72                        9                 1      0         1      0   \n",
      "\n",
      "    Injured  HelpProvidedByAmbulancePatrol  \n",
      "66        0                              0  \n",
      "33        0                              1  \n",
      "60        0                              0  \n",
      "37        0                              1  \n",
      "62        0                              1  \n",
      "83        0                              1  \n",
      "20        0                              0  \n",
      "81        0                              2  \n",
      "67        0                              1  \n",
      "72        0                              0  \n",
      "66    4\n",
      "33    3\n",
      "60    1\n",
      "37    4\n",
      "62    2\n",
      "83    1\n",
      "20    1\n",
      "81    3\n",
      "67    2\n",
      "72    2\n",
      "Name: ClassificationOfAccident, dtype: object\n",
      "51    2\n",
      "Name: ClassificationOfAccident, dtype: object\n"
     ]
    }
   ],
   "source": [
    "print(X_test)\n",
    "print(X_train)\n",
    "print(y_train)\n",
    "print(y_test)"
   ]
  },
  {
   "cell_type": "markdown",
   "id": "cb59a186",
   "metadata": {},
   "source": [
    "### Feeding our dataset with training values"
   ]
  },
  {
   "cell_type": "code",
   "execution_count": null,
   "id": "03534730",
   "metadata": {},
   "outputs": [],
   "source": [
    "classifier= LogisticRegression(random_state=7)  \n",
    "classifier.fit(X_train,y_train)"
   ]
  },
  {
   "cell_type": "markdown",
   "id": "af87fc7c",
   "metadata": {},
   "source": [
    "### Predicting ClassificationOfAccident for df2015 dataset"
   ]
  },
  {
   "cell_type": "code",
   "execution_count": 171,
   "id": "e2ec9017",
   "metadata": {},
   "outputs": [
    {
     "name": "stdout",
     "output_type": "stream",
     "text": [
      "['2' '2' '2' '2' '3' '3' '3' '3' '3' '3' '3' '2' '2' '3' '3' '3' '2' '2'\n",
      " '2' '3' '1' '2' '3' '2' '3' '2' '3' '2' '2' '3' '3' '3' '2' '1' '1' '3'\n",
      " '3' '2' '2' '2' '3' '1' '1' '3' '3']\n"
     ]
    }
   ],
   "source": [
    "y_pred= classifier.predict(df2015)\n",
    "print(y_pred)"
   ]
  },
  {
   "cell_type": "markdown",
   "id": "1a04aa47",
   "metadata": {},
   "source": [
    "### Training Score for our Classifier"
   ]
  },
  {
   "cell_type": "code",
   "execution_count": 172,
   "id": "b2be1d1f",
   "metadata": {},
   "outputs": [
    {
     "data": {
      "text/plain": [
       "0.9"
      ]
     },
     "execution_count": 172,
     "metadata": {},
     "output_type": "execute_result"
    }
   ],
   "source": [
    "classifier.score(X_train, y_train)"
   ]
  },
  {
   "cell_type": "markdown",
   "id": "fd835df6",
   "metadata": {},
   "source": [
    "### Testing Score for our Classifier"
   ]
  },
  {
   "cell_type": "code",
   "execution_count": 173,
   "id": "0fcbffcb",
   "metadata": {},
   "outputs": [
    {
     "data": {
      "text/plain": [
       "1.0"
      ]
     },
     "execution_count": 173,
     "metadata": {},
     "output_type": "execute_result"
    }
   ],
   "source": [
    "classifier.score(X_test, y_test)"
   ]
  },
  {
   "cell_type": "markdown",
   "id": "0970d002",
   "metadata": {},
   "source": [
    "### Adding a new column with the predicted values"
   ]
  },
  {
   "cell_type": "code",
   "execution_count": 174,
   "id": "46158b0d",
   "metadata": {},
   "outputs": [],
   "source": [
    "df2015['Predicted ClassificationOfAccident'] = y_pred\n"
   ]
  },
  {
   "cell_type": "code",
   "execution_count": 175,
   "id": "7837e9c8",
   "metadata": {},
   "outputs": [
    {
     "data": {
      "text/html": [
       "<div>\n",
       "<style scoped>\n",
       "    .dataframe tbody tr th:only-of-type {\n",
       "        vertical-align: middle;\n",
       "    }\n",
       "\n",
       "    .dataframe tbody tr th {\n",
       "        vertical-align: top;\n",
       "    }\n",
       "\n",
       "    .dataframe thead th {\n",
       "        text-align: right;\n",
       "    }\n",
       "</style>\n",
       "<table border=\"1\" class=\"dataframe\">\n",
       "  <thead>\n",
       "    <tr style=\"text-align: right;\">\n",
       "      <th></th>\n",
       "      <th>NatureAccident</th>\n",
       "      <th>Causes</th>\n",
       "      <th>RoadFeature</th>\n",
       "      <th>RoadCondition</th>\n",
       "      <th>IntersectionTypeControl</th>\n",
       "      <th>WeatherCondition</th>\n",
       "      <th>Fatal</th>\n",
       "      <th>Grevious</th>\n",
       "      <th>Minor</th>\n",
       "      <th>Injured</th>\n",
       "      <th>HelpProvidedByAmbulancePatrol</th>\n",
       "      <th>Predicted ClassificationOfAccident</th>\n",
       "    </tr>\n",
       "  </thead>\n",
       "  <tbody>\n",
       "    <tr>\n",
       "      <th>0</th>\n",
       "      <td>2</td>\n",
       "      <td>2</td>\n",
       "      <td>2</td>\n",
       "      <td>1</td>\n",
       "      <td>9</td>\n",
       "      <td>1</td>\n",
       "      <td>0</td>\n",
       "      <td>2</td>\n",
       "      <td>1</td>\n",
       "      <td>0</td>\n",
       "      <td>2</td>\n",
       "      <td>2</td>\n",
       "    </tr>\n",
       "    <tr>\n",
       "      <th>4</th>\n",
       "      <td>2</td>\n",
       "      <td>2</td>\n",
       "      <td>4</td>\n",
       "      <td>4</td>\n",
       "      <td>9</td>\n",
       "      <td>1</td>\n",
       "      <td>0</td>\n",
       "      <td>2</td>\n",
       "      <td>1</td>\n",
       "      <td>1</td>\n",
       "      <td>2</td>\n",
       "      <td>2</td>\n",
       "    </tr>\n",
       "    <tr>\n",
       "      <th>5</th>\n",
       "      <td>2</td>\n",
       "      <td>2</td>\n",
       "      <td>4</td>\n",
       "      <td>4</td>\n",
       "      <td>9</td>\n",
       "      <td>1</td>\n",
       "      <td>0</td>\n",
       "      <td>2</td>\n",
       "      <td>1</td>\n",
       "      <td>1</td>\n",
       "      <td>2</td>\n",
       "      <td>2</td>\n",
       "    </tr>\n",
       "    <tr>\n",
       "      <th>6</th>\n",
       "      <td>2</td>\n",
       "      <td>2</td>\n",
       "      <td>4</td>\n",
       "      <td>4</td>\n",
       "      <td>9</td>\n",
       "      <td>1</td>\n",
       "      <td>0</td>\n",
       "      <td>2</td>\n",
       "      <td>1</td>\n",
       "      <td>1</td>\n",
       "      <td>2</td>\n",
       "      <td>2</td>\n",
       "    </tr>\n",
       "    <tr>\n",
       "      <th>7</th>\n",
       "      <td>2</td>\n",
       "      <td>2</td>\n",
       "      <td>4</td>\n",
       "      <td>4</td>\n",
       "      <td>9</td>\n",
       "      <td>1</td>\n",
       "      <td>0</td>\n",
       "      <td>0</td>\n",
       "      <td>1</td>\n",
       "      <td>0</td>\n",
       "      <td>2</td>\n",
       "      <td>3</td>\n",
       "    </tr>\n",
       "  </tbody>\n",
       "</table>\n",
       "</div>"
      ],
      "text/plain": [
       "   NatureAccident Causes  RoadFeature  RoadCondition  IntersectionTypeControl  \\\n",
       "0               2      2            2              1                        9   \n",
       "4               2      2            4              4                        9   \n",
       "5               2      2            4              4                        9   \n",
       "6               2      2            4              4                        9   \n",
       "7               2      2            4              4                        9   \n",
       "\n",
       "   WeatherCondition  Fatal  Grevious  Minor  Injured  \\\n",
       "0                 1      0         2      1        0   \n",
       "4                 1      0         2      1        1   \n",
       "5                 1      0         2      1        1   \n",
       "6                 1      0         2      1        1   \n",
       "7                 1      0         0      1        0   \n",
       "\n",
       "   HelpProvidedByAmbulancePatrol Predicted ClassificationOfAccident  \n",
       "0                              2                                  2  \n",
       "4                              2                                  2  \n",
       "5                              2                                  2  \n",
       "6                              2                                  2  \n",
       "7                              2                                  3  "
      ]
     },
     "execution_count": 175,
     "metadata": {},
     "output_type": "execute_result"
    }
   ],
   "source": [
    "df2015.head()"
   ]
  },
  {
   "cell_type": "markdown",
   "id": "5acb049d",
   "metadata": {},
   "source": [
    "### 2) Checking for the Location with maximum number of Accidents"
   ]
  },
  {
   "cell_type": "code",
   "execution_count": 177,
   "id": "f331e176",
   "metadata": {},
   "outputs": [
    {
     "data": {
      "text/plain": [
       "count                 79\n",
       "unique                69\n",
       "top       126.800 KM RHS\n",
       "freq                   3\n",
       "Name: AccLocation, dtype: object"
      ]
     },
     "execution_count": 177,
     "metadata": {},
     "output_type": "execute_result"
    }
   ],
   "source": [
    "df1['AccLocation'].describe()"
   ]
  },
  {
   "cell_type": "markdown",
   "id": "f9462bae",
   "metadata": {},
   "source": [
    "#### Hence, 126.800 KM RHS has maximum number of accidents recorded"
   ]
  },
  {
   "cell_type": "markdown",
   "id": "3dab74bd",
   "metadata": {},
   "source": [
    "### 3) Checking for features of  ClassificationOfAccident column"
   ]
  },
  {
   "cell_type": "code",
   "execution_count": 178,
   "id": "27667bb0",
   "metadata": {},
   "outputs": [
    {
     "data": {
      "text/plain": [
       "count     79\n",
       "unique     4\n",
       "top        2\n",
       "freq      23\n",
       "Name: ClassificationOfAccident, dtype: object"
      ]
     },
     "execution_count": 178,
     "metadata": {},
     "output_type": "execute_result"
    }
   ],
   "source": [
    "df1['ClassificationOfAccident'].describe()"
   ]
  },
  {
   "cell_type": "code",
   "execution_count": null,
   "id": "fcbac3e1",
   "metadata": {},
   "outputs": [],
   "source": []
  }
 ],
 "metadata": {
  "kernelspec": {
   "display_name": "Python 3 (ipykernel)",
   "language": "python",
   "name": "python3"
  },
  "language_info": {
   "codemirror_mode": {
    "name": "ipython",
    "version": 3
   },
   "file_extension": ".py",
   "mimetype": "text/x-python",
   "name": "python",
   "nbconvert_exporter": "python",
   "pygments_lexer": "ipython3",
   "version": "3.8.8"
  }
 },
 "nbformat": 4,
 "nbformat_minor": 5
}
